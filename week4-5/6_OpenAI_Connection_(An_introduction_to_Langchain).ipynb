{
  "nbformat": 4,
  "nbformat_minor": 0,
  "metadata": {
    "colab": {
      "provenance": []
    },
    "kernelspec": {
      "name": "python3",
      "display_name": "Python 3"
    },
    "language_info": {
      "name": "python"
    }
  },
  "cells": [
    {
      "cell_type": "code",
      "source": [
        "!pip install langchain-community"
      ],
      "metadata": {
        "id": "3sNi4eKc8zjZ"
      },
      "execution_count": null,
      "outputs": []
    },
    {
      "cell_type": "code",
      "source": [
        "!pip install python-dotenv\n",
        "!pip install langchain_openai   langchain_core   langchain_neo4j"
      ],
      "metadata": {
        "id": "zUj2qM7PnG5v"
      },
      "execution_count": null,
      "outputs": []
    },
    {
      "cell_type": "code",
      "source": [
        "# NEO4J and OPENAI Connections\n",
        "\n",
        "from dotenv import load_dotenv\n",
        "import os\n",
        "load_dotenv(\".env\")\n"
      ],
      "metadata": {
        "id": "7pohZOGkAToN"
      },
      "execution_count": null,
      "outputs": []
    },
    {
      "cell_type": "code",
      "execution_count": 5,
      "metadata": {
        "colab": {
          "base_uri": "https://localhost:8080/"
        },
        "id": "U2J5ADX53KFp",
        "outputId": "997193bf-ca29-462c-8efb-9cf657bab594"
      },
      "outputs": [
        {
          "output_type": "stream",
          "name": "stdout",
          "text": [
            "Session ID: 10d7430d-9b0a-4cb7-9fc2-32b0a646e60c\n"
          ]
        }
      ],
      "source": [
        "import os\n",
        "\n",
        "from langchain_openai import ChatOpenAI\n",
        "from langchain.agents import AgentExecutor, create_react_agent\n",
        "from langchain.tools import Tool\n",
        "from langchain import hub\n",
        "from langchain_core.prompts import ChatPromptTemplate\n",
        "from langchain_core.runnables.history import RunnableWithMessageHistory\n",
        "from langchain.schema import StrOutputParser\n",
        "from langchain_neo4j import Neo4jChatMessageHistory, Neo4jGraph\n",
        "from uuid import uuid4\n",
        "\n",
        "SESSION_ID = str(uuid4())\n",
        "print(f\"Session ID: {SESSION_ID}\")\n",
        "\n",
        "llm = ChatOpenAI(\n",
        "    openai_api_key=os.getenv(\"OPENAI_API_KEY\")\n",
        "    )\n",
        "\n",
        "graph = Neo4jGraph(\n",
        "    url=os.getenv(\"NEO4J_URI\"),\n",
        "    username=os.getenv(\"NEO4J_USERNAME\"),\n",
        "    password=os.getenv(\"NEO4J_PASSWORD\")\n",
        ")\n"
      ]
    },
    {
      "cell_type": "code",
      "source": [
        "prompt = ChatPromptTemplate.from_messages(\n",
        "    [\n",
        "        (\n",
        "            \"system\",\n",
        "            \"You are a Neo4j expert having a conversation about how to create Cypher queries\",\n",
        "        ),\n",
        "        (\"human\", \"{input}\"),\n",
        "    ]\n",
        ")"
      ],
      "metadata": {
        "id": "BtN9MSdoAd35"
      },
      "execution_count": null,
      "outputs": []
    },
    {
      "cell_type": "code",
      "source": [
        "cypher_chat = prompt | llm | StrOutputParser()\n",
        "\n",
        "def get_memory(session_id):\n",
        "    return Neo4jChatMessageHistory(session_id=session_id, graph=graph)\n",
        "\n",
        "tools = [\n",
        "    Tool.from_function(\n",
        "        name=\"Cypher Support\",\n",
        "        description=\"For when you need to talk about Cypher queries.\",\n",
        "        func=cypher_chat.invoke,\n",
        "    )\n",
        "]\n",
        "\n",
        "agent_prompt = hub.pull(\"hwchase17/react-chat\")\n",
        "agent = create_react_agent(llm, tools, agent_prompt)\n",
        "agent_executor = AgentExecutor(agent=agent, tools=tools)\n",
        "\n",
        "cypher_agent = RunnableWithMessageHistory(\n",
        "    agent_executor,\n",
        "    get_memory,\n",
        "    input_messages_key=\"input\",\n",
        "    history_messages_key=\"chat_history\",\n",
        ")\n",
        "\n",
        "while (q := input(\"> \")) != \"exit\":\n",
        "\n",
        "    response = cypher_agent.invoke(\n",
        "        {\n",
        "            \"input\": q\n",
        "        },\n",
        "        {\"configurable\": {\"session_id\": SESSION_ID}},\n",
        "    )\n",
        "\n",
        "    print(response[\"output\"])"
      ],
      "metadata": {
        "colab": {
          "base_uri": "https://localhost:8080/"
        },
        "id": "6oOy2EDg4OdN",
        "outputId": "b013ae22-d2f0-4287-ff88-4a6797e202de"
      },
      "execution_count": 7,
      "outputs": [
        {
          "output_type": "stream",
          "name": "stderr",
          "text": [
            "/usr/local/lib/python3.11/dist-packages/langsmith/client.py:272: LangSmithMissingAPIKeyWarning: API key must be provided when using hosted LangSmith API\n",
            "  warnings.warn(\n"
          ]
        },
        {
          "name": "stdout",
          "output_type": "stream",
          "text": [
            "> hi, i need a cypher query, to get all users who have more than 5 transactions.\n",
            "To get all users who have more than 5 transactions, you can write a Cypher query like this:\n",
            "\n",
            "```\n",
            "MATCH (u:User)-[:MADE]->(t:Transaction)\n",
            "WITH u, COUNT(t) AS transactionCount\n",
            "WHERE transactionCount > 5\n",
            "RETURN u\n",
            "```\n",
            "\n",
            "In this query:\n",
            "- We first match the `User` nodes and their outgoing `MADE` relationships to `Transaction` nodes.\n",
            "- We then use the `WITH` clause to group by the `User` nodes and calculate the count of transactions for each user.\n",
            "- Finally, we filter for users who have more than 5 transactions and return those users.\n",
            "> exit\n"
          ]
        }
      ]
    }
  ]
}